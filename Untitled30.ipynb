{
  "nbformat": 4,
  "nbformat_minor": 0,
  "metadata": {
    "colab": {
      "provenance": [],
      "authorship_tag": "ABX9TyPEwwmhhOCUOpfDN5GhSkN5",
      "include_colab_link": true
    },
    "kernelspec": {
      "name": "python3",
      "display_name": "Python 3"
    },
    "language_info": {
      "name": "python"
    }
  },
  "cells": [
    {
      "cell_type": "markdown",
      "metadata": {
        "id": "view-in-github",
        "colab_type": "text"
      },
      "source": [
        "<a href=\"https://colab.research.google.com/github/Nirali227/web_scraping/blob/main/Untitled30.ipynb\" target=\"_parent\"><img src=\"https://colab.research.google.com/assets/colab-badge.svg\" alt=\"Open In Colab\"/></a>"
      ]
    },
    {
      "cell_type": "code",
      "source": [
        "from bs4 import BeautifulSoup\n",
        "import pandas as pd\n",
        "import requests"
      ],
      "metadata": {
        "id": "jqEfz61MBZt1"
      },
      "execution_count": 1,
      "outputs": []
    },
    {
      "cell_type": "code",
      "source": [
        "model_name = []\n",
        "model_price = []\n",
        "model_rating = []\n",
        "model_ram = []\n",
        "model_processor = []\n",
        "model_ssize = []\n",
        "model_drive = []\n",
        "model_warrenty = []\n",
        "\n"
      ],
      "metadata": {
        "id": "T77V32AEBgDu"
      },
      "execution_count": 2,
      "outputs": []
    },
    {
      "cell_type": "code",
      "source": [
        "all_url = 'https://www.flipkart.com/search?q=laptop+under+50000&otracker=search&otracker1=search&marketplace=FLIPKART&as-show=on&as=off&p%5B%5D=facets.price_range.from%3DMin&p%5B%5D=facets.price_range.to%3D50000&page=1'"
      ],
      "metadata": {
        "id": "j_Yiul5ZBjru"
      },
      "execution_count": 3,
      "outputs": []
    },
    {
      "cell_type": "code",
      "source": [
        "web_url_response=requests.get('https://www.flipkart.com/search?q=laptop+under+50000&otracker=search&otracker1=search&marketplace=FLIPKART&as-show=on&as=off&p%5B%5D=facets.price_range.from%3DMin&p%5B%5D=facets.price_range.to%3D50000&page=1')\n",
        "soup = BeautifulSoup(web_url_response.content, 'html.parser')\n",
        "\n",
        "results = soup.find_all('div', class_='_2kHMtA')\n",
        "\n",
        "for result_name in results:\n",
        "    results_model_name = result_name.find('div', class_='_4rR01T')\n",
        "    if results_model_name is None:\n",
        "        model_name.append('NA')\n",
        "    else:\n",
        "        model_name.append(results_model_name.text)\n",
        "for result_price in results:\n",
        "    results_model_price = result_price.find('div', class_='_30jeq3 _1_WHN1')\n",
        "    if results_model_price is None:\n",
        "        model_price.append('0')\n",
        "    else:\n",
        "        model_price.append(results_model_price.text)\n",
        "for result_rating in results:\n",
        "    results_model_rating = result_rating.find('div', class_='_3LWZlK')\n",
        "    if results_model_rating is None:\n",
        "        model_rating.append('0.0')\n",
        "    else:\n",
        "        model_rating.append(results_model_rating.text)\n",
        "          \n",
        "for result_ram in results:\n",
        "    results_model_ram = result_ram.find('li', class_='rgWa7D', string=lambda text: 'RAM' in text)\n",
        "    if results_model_ram is None:\n",
        "        model_ram.append('NA')\n",
        "    else:\n",
        "        model_ram.append(results_model_ram.text)\n",
        "\n",
        "for result_processor in results:\n",
        "    results_model_processor = result_processor.find('li', class_='rgWa7D', string=lambda text: 'Processor' in text)\n",
        "    if results_model_processor is None:\n",
        "        model_processor.append('NA')\n",
        "    else:\n",
        "        model_processor.append(results_model_processor.text)\n",
        "\n",
        "for result_ssize in results:\n",
        "  results_model_ssize = result_ssize.find('li', class_='rgWa7D', string=lambda text: 'Display' in text)\n",
        "  if results_model_ssize is None:\n",
        "      model_ssize.append('NA')\n",
        "  else:\n",
        "      model_ssize.append(results_model_ssize.text)\n",
        "\n",
        "for result_drive in results:\n",
        "    results_model_drive = result_drive.find('li', class_='rgWa7D', string=lambda text: 'SSD' or 'DDR4' in text)\n",
        "    if results_model_drive is None:\n",
        "        model_drive.append('NA')\n",
        "    else:\n",
        "        model_drive.append(results_model_drive.text)\n",
        "      \n",
        "for result_warrenty in results:\n",
        "    results_model_warrenty = result_warrenty.find('li', class_='rgWa7D', string=lambda text: 'Warranty' in text)\n",
        "    if results_model_warrenty is None:\n",
        "        model_warrenty.append('NA')\n",
        "    else:\n",
        "        model_warrenty.append(results_model_warrenty.text)"
      ],
      "metadata": {
        "id": "W_Boapn9BVdZ"
      },
      "execution_count": 4,
      "outputs": []
    },
    {
      "cell_type": "code",
      "source": [
        "print(len(model_name))\n",
        "print(len(model_drive))\n",
        "print(len(model_price))\n",
        "print(len(model_processor))\n",
        "print(len(model_ram))\n",
        "print(len(model_rating))\n",
        "print(len(model_ssize))\n",
        "print(len(model_warrenty))"
      ],
      "metadata": {
        "colab": {
          "base_uri": "https://localhost:8080/"
        },
        "id": "QRk62Di_BhKG",
        "outputId": "d4f34656-02b0-49f1-9514-8c31fe2255bb"
      },
      "execution_count": 5,
      "outputs": [
        {
          "output_type": "stream",
          "name": "stdout",
          "text": [
            "24\n",
            "24\n",
            "24\n",
            "24\n",
            "24\n",
            "24\n",
            "24\n",
            "24\n"
          ]
        }
      ]
    },
    {
      "cell_type": "code",
      "source": [],
      "metadata": {
        "id": "6Q89AYDFCL_p"
      },
      "execution_count": 5,
      "outputs": []
    },
    {
      "cell_type": "code",
      "source": [],
      "metadata": {
        "id": "TutQ_ma3LmFA"
      },
      "execution_count": 5,
      "outputs": []
    },
    {
      "cell_type": "code",
      "source": [],
      "metadata": {
        "id": "qSM20w9kLmAj"
      },
      "execution_count": 5,
      "outputs": []
    },
    {
      "cell_type": "code",
      "source": [],
      "metadata": {
        "id": "Msc9mG7ALl7o"
      },
      "execution_count": 5,
      "outputs": []
    },
    {
      "cell_type": "code",
      "source": [],
      "metadata": {
        "id": "5dlZ04JsLl3y"
      },
      "execution_count": 5,
      "outputs": []
    },
    {
      "cell_type": "code",
      "source": [
        "from bs4 import BeautifulSoup\n",
        "import requests\n",
        "\n",
        "# send request to website and get response\n",
        "web_url_response = requests.get('https://www.flipkart.com/search?q=laptop+under+50000&otracker=search&otracker1=search&marketplace=FLIPKART&as-show=on&as=off&p%5B%5D=facets.price_range.from%3DMin&p%5B%5D=facets.price_range.to%3D50000&page=1')\n",
        "\n",
        "# create soup object from the response content\n",
        "soup = BeautifulSoup(web_url_response.content, 'html.parser')\n",
        "\n",
        "# find all elements with the same class name\n",
        "elements = soup.find_all('li', class_='rgWa7D')\n",
        "\n",
        "# loop through the elements and extract the text\n",
        "for element in elements:\n",
        "    text = element.text.strip()\n",
        "\n",
        "    print(text[element][0])\n"
      ],
      "metadata": {
        "colab": {
          "base_uri": "https://localhost:8080/",
          "height": 200
        },
        "id": "GehneymALl09",
        "outputId": "742cb4b1-8284-45b0-fd86-87ed1f2552b1"
      },
      "execution_count": 6,
      "outputs": [
        {
          "output_type": "error",
          "ename": "TypeError",
          "evalue": "ignored",
          "traceback": [
            "\u001b[0;31m---------------------------------------------------------------------------\u001b[0m",
            "\u001b[0;31mTypeError\u001b[0m                                 Traceback (most recent call last)",
            "\u001b[0;32m<ipython-input-6-967821c1435c>\u001b[0m in \u001b[0;36m<module>\u001b[0;34m\u001b[0m\n\u001b[1;32m     15\u001b[0m     \u001b[0mtext\u001b[0m \u001b[0;34m=\u001b[0m \u001b[0melement\u001b[0m\u001b[0;34m.\u001b[0m\u001b[0mtext\u001b[0m\u001b[0;34m.\u001b[0m\u001b[0mstrip\u001b[0m\u001b[0;34m(\u001b[0m\u001b[0;34m)\u001b[0m\u001b[0;34m\u001b[0m\u001b[0;34m\u001b[0m\u001b[0m\n\u001b[1;32m     16\u001b[0m \u001b[0;34m\u001b[0m\u001b[0m\n\u001b[0;32m---> 17\u001b[0;31m     \u001b[0mprint\u001b[0m\u001b[0;34m(\u001b[0m\u001b[0mtext\u001b[0m\u001b[0;34m[\u001b[0m\u001b[0melement\u001b[0m\u001b[0;34m]\u001b[0m\u001b[0;34m[\u001b[0m\u001b[0;36m0\u001b[0m\u001b[0;34m]\u001b[0m\u001b[0;34m)\u001b[0m\u001b[0;34m\u001b[0m\u001b[0;34m\u001b[0m\u001b[0m\n\u001b[0m",
            "\u001b[0;31mTypeError\u001b[0m: string indices must be integers"
          ]
        }
      ]
    },
    {
      "cell_type": "code",
      "source": [],
      "metadata": {
        "id": "pU7Z8AmbLwN7"
      },
      "execution_count": null,
      "outputs": []
    }
  ]
}