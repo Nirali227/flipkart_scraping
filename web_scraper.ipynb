{
 "cells": [
  {
   "cell_type": "code",
   "execution_count": 2,
   "id": "944864ba-c442-4b97-af93-4c04d8e7256d",
   "metadata": {},
   "outputs": [],
   "source": [
    "from selenium import webdriver\n",
    "from bs4 import BeautifulSoup\n",
    "import pandas as pd\n",
    "from webdriver_manager.chrome import ChromeDriverManager\n",
    "from selenium.webdriver.common.keys import Keys\n",
    "import requests\n",
    "import os\n",
    "import json\n"
   ]
  },
  {
   "cell_type": "code",
   "execution_count": 3,
   "id": "d78904b6-1ff0-4ad9-9ae4-cd37d350a38e",
   "metadata": {},
   "outputs": [
    {
     "data": {
      "text/plain": [
       "True"
      ]
     },
     "execution_count": 3,
     "metadata": {},
     "output_type": "execute_result"
    }
   ],
   "source": [
    "from dotenv import load_dotenv\n",
    "load_dotenv()"
   ]
  },
  {
   "cell_type": "code",
   "execution_count": 16,
   "id": "895b4c8c-4843-41ba-83a2-17108397fbfc",
   "metadata": {
    "collapsed": true,
    "jupyter": {
     "outputs_hidden": true
    },
    "tags": []
   },
   "outputs": [
    {
     "name": "stdout",
     "output_type": "stream",
     "text": [
      "960 960 960 960 960 1008 912\n"
     ]
    },
    {
     "ename": "ValueError",
     "evalue": "arrays must all be same length",
     "output_type": "error",
     "traceback": [
      "\u001b[1;31m---------------------------------------------------------------------------\u001b[0m",
      "\u001b[1;31mValueError\u001b[0m                                Traceback (most recent call last)",
      "\u001b[1;32m<ipython-input-16-24392a5c9ccb>\u001b[0m in \u001b[0;36m<module>\u001b[1;34m\u001b[0m\n\u001b[0;32m     95\u001b[0m \u001b[0mprint\u001b[0m\u001b[1;33m(\u001b[0m\u001b[0mlen\u001b[0m\u001b[1;33m(\u001b[0m\u001b[0mmodel_name\u001b[0m\u001b[1;33m)\u001b[0m\u001b[1;33m,\u001b[0m\u001b[0mlen\u001b[0m\u001b[1;33m(\u001b[0m\u001b[0mmodel_dis_price\u001b[0m\u001b[1;33m)\u001b[0m\u001b[1;33m,\u001b[0m\u001b[0mlen\u001b[0m\u001b[1;33m(\u001b[0m\u001b[0mmodel_rating\u001b[0m\u001b[1;33m)\u001b[0m\u001b[1;33m,\u001b[0m\u001b[0mlen\u001b[0m\u001b[1;33m(\u001b[0m\u001b[0mmodel_ram\u001b[0m\u001b[1;33m)\u001b[0m\u001b[1;33m,\u001b[0m\u001b[0mlen\u001b[0m\u001b[1;33m(\u001b[0m\u001b[0mmodel_rom\u001b[0m\u001b[1;33m)\u001b[0m\u001b[1;33m,\u001b[0m\u001b[0mlen\u001b[0m\u001b[1;33m(\u001b[0m\u001b[0mmodel_org_price\u001b[0m\u001b[1;33m)\u001b[0m\u001b[1;33m,\u001b[0m\u001b[0mlen\u001b[0m\u001b[1;33m(\u001b[0m\u001b[0mmodel_href\u001b[0m\u001b[1;33m)\u001b[0m\u001b[1;33m)\u001b[0m\u001b[1;33m\u001b[0m\u001b[1;33m\u001b[0m\u001b[0m\n\u001b[0;32m     96\u001b[0m \u001b[1;33m\u001b[0m\u001b[0m\n\u001b[1;32m---> 97\u001b[1;33m \u001b[0mdata\u001b[0m \u001b[1;33m=\u001b[0m \u001b[0mpd\u001b[0m\u001b[1;33m.\u001b[0m\u001b[0mDataFrame\u001b[0m\u001b[1;33m(\u001b[0m\u001b[1;33m{\u001b[0m\u001b[0mcol1\u001b[0m\u001b[1;33m:\u001b[0m\u001b[0mmodel_name\u001b[0m\u001b[1;33m,\u001b[0m \u001b[0mcol2\u001b[0m\u001b[1;33m:\u001b[0m\u001b[0mmodel_dis_price\u001b[0m\u001b[1;33m,\u001b[0m \u001b[0mcol3\u001b[0m\u001b[1;33m:\u001b[0m\u001b[0mmodel_rating\u001b[0m\u001b[1;33m,\u001b[0m \u001b[0mcol4\u001b[0m\u001b[1;33m:\u001b[0m\u001b[0mmodel_ram\u001b[0m\u001b[1;33m,\u001b[0m \u001b[0mcol5\u001b[0m\u001b[1;33m:\u001b[0m\u001b[0mmodel_rom\u001b[0m\u001b[1;33m,\u001b[0m \u001b[0mcol6\u001b[0m\u001b[1;33m:\u001b[0m\u001b[0mmodel_org_price\u001b[0m\u001b[1;33m,\u001b[0m \u001b[0mcol7\u001b[0m\u001b[1;33m:\u001b[0m\u001b[0mmodel_href\u001b[0m\u001b[1;33m}\u001b[0m\u001b[1;33m)\u001b[0m\u001b[1;33m\u001b[0m\u001b[1;33m\u001b[0m\u001b[0m\n\u001b[0m\u001b[0;32m     98\u001b[0m \u001b[1;31m# data = pd.DataFrame({col1:model_name, col2:model_org_price, col3:model_dis_price, col4:model_rating, col5:model_ram, col6:model_rom})\u001b[0m\u001b[1;33m\u001b[0m\u001b[1;33m\u001b[0m\u001b[1;33m\u001b[0m\u001b[0m\n\u001b[0;32m     99\u001b[0m \u001b[1;33m\u001b[0m\u001b[0m\n",
      "\u001b[1;32m~\\anaconda3\\lib\\site-packages\\pandas\\core\\frame.py\u001b[0m in \u001b[0;36m__init__\u001b[1;34m(self, data, index, columns, dtype, copy)\u001b[0m\n\u001b[0;32m    527\u001b[0m \u001b[1;33m\u001b[0m\u001b[0m\n\u001b[0;32m    528\u001b[0m         \u001b[1;32melif\u001b[0m \u001b[0misinstance\u001b[0m\u001b[1;33m(\u001b[0m\u001b[0mdata\u001b[0m\u001b[1;33m,\u001b[0m \u001b[0mdict\u001b[0m\u001b[1;33m)\u001b[0m\u001b[1;33m:\u001b[0m\u001b[1;33m\u001b[0m\u001b[1;33m\u001b[0m\u001b[0m\n\u001b[1;32m--> 529\u001b[1;33m             \u001b[0mmgr\u001b[0m \u001b[1;33m=\u001b[0m \u001b[0minit_dict\u001b[0m\u001b[1;33m(\u001b[0m\u001b[0mdata\u001b[0m\u001b[1;33m,\u001b[0m \u001b[0mindex\u001b[0m\u001b[1;33m,\u001b[0m \u001b[0mcolumns\u001b[0m\u001b[1;33m,\u001b[0m \u001b[0mdtype\u001b[0m\u001b[1;33m=\u001b[0m\u001b[0mdtype\u001b[0m\u001b[1;33m)\u001b[0m\u001b[1;33m\u001b[0m\u001b[1;33m\u001b[0m\u001b[0m\n\u001b[0m\u001b[0;32m    530\u001b[0m         \u001b[1;32melif\u001b[0m \u001b[0misinstance\u001b[0m\u001b[1;33m(\u001b[0m\u001b[0mdata\u001b[0m\u001b[1;33m,\u001b[0m \u001b[0mma\u001b[0m\u001b[1;33m.\u001b[0m\u001b[0mMaskedArray\u001b[0m\u001b[1;33m)\u001b[0m\u001b[1;33m:\u001b[0m\u001b[1;33m\u001b[0m\u001b[1;33m\u001b[0m\u001b[0m\n\u001b[0;32m    531\u001b[0m             \u001b[1;32mimport\u001b[0m \u001b[0mnumpy\u001b[0m\u001b[1;33m.\u001b[0m\u001b[0mma\u001b[0m\u001b[1;33m.\u001b[0m\u001b[0mmrecords\u001b[0m \u001b[1;32mas\u001b[0m \u001b[0mmrecords\u001b[0m\u001b[1;33m\u001b[0m\u001b[1;33m\u001b[0m\u001b[0m\n",
      "\u001b[1;32m~\\anaconda3\\lib\\site-packages\\pandas\\core\\internals\\construction.py\u001b[0m in \u001b[0;36minit_dict\u001b[1;34m(data, index, columns, dtype)\u001b[0m\n\u001b[0;32m    285\u001b[0m             \u001b[0marr\u001b[0m \u001b[1;32mif\u001b[0m \u001b[1;32mnot\u001b[0m \u001b[0mis_datetime64tz_dtype\u001b[0m\u001b[1;33m(\u001b[0m\u001b[0marr\u001b[0m\u001b[1;33m)\u001b[0m \u001b[1;32melse\u001b[0m \u001b[0marr\u001b[0m\u001b[1;33m.\u001b[0m\u001b[0mcopy\u001b[0m\u001b[1;33m(\u001b[0m\u001b[1;33m)\u001b[0m \u001b[1;32mfor\u001b[0m \u001b[0marr\u001b[0m \u001b[1;32min\u001b[0m \u001b[0marrays\u001b[0m\u001b[1;33m\u001b[0m\u001b[1;33m\u001b[0m\u001b[0m\n\u001b[0;32m    286\u001b[0m         ]\n\u001b[1;32m--> 287\u001b[1;33m     \u001b[1;32mreturn\u001b[0m \u001b[0marrays_to_mgr\u001b[0m\u001b[1;33m(\u001b[0m\u001b[0marrays\u001b[0m\u001b[1;33m,\u001b[0m \u001b[0mdata_names\u001b[0m\u001b[1;33m,\u001b[0m \u001b[0mindex\u001b[0m\u001b[1;33m,\u001b[0m \u001b[0mcolumns\u001b[0m\u001b[1;33m,\u001b[0m \u001b[0mdtype\u001b[0m\u001b[1;33m=\u001b[0m\u001b[0mdtype\u001b[0m\u001b[1;33m)\u001b[0m\u001b[1;33m\u001b[0m\u001b[1;33m\u001b[0m\u001b[0m\n\u001b[0m\u001b[0;32m    288\u001b[0m \u001b[1;33m\u001b[0m\u001b[0m\n\u001b[0;32m    289\u001b[0m \u001b[1;33m\u001b[0m\u001b[0m\n",
      "\u001b[1;32m~\\anaconda3\\lib\\site-packages\\pandas\\core\\internals\\construction.py\u001b[0m in \u001b[0;36marrays_to_mgr\u001b[1;34m(arrays, arr_names, index, columns, dtype, verify_integrity)\u001b[0m\n\u001b[0;32m     78\u001b[0m         \u001b[1;31m# figure out the index, if necessary\u001b[0m\u001b[1;33m\u001b[0m\u001b[1;33m\u001b[0m\u001b[1;33m\u001b[0m\u001b[0m\n\u001b[0;32m     79\u001b[0m         \u001b[1;32mif\u001b[0m \u001b[0mindex\u001b[0m \u001b[1;32mis\u001b[0m \u001b[1;32mNone\u001b[0m\u001b[1;33m:\u001b[0m\u001b[1;33m\u001b[0m\u001b[1;33m\u001b[0m\u001b[0m\n\u001b[1;32m---> 80\u001b[1;33m             \u001b[0mindex\u001b[0m \u001b[1;33m=\u001b[0m \u001b[0mextract_index\u001b[0m\u001b[1;33m(\u001b[0m\u001b[0marrays\u001b[0m\u001b[1;33m)\u001b[0m\u001b[1;33m\u001b[0m\u001b[1;33m\u001b[0m\u001b[0m\n\u001b[0m\u001b[0;32m     81\u001b[0m         \u001b[1;32melse\u001b[0m\u001b[1;33m:\u001b[0m\u001b[1;33m\u001b[0m\u001b[1;33m\u001b[0m\u001b[0m\n\u001b[0;32m     82\u001b[0m             \u001b[0mindex\u001b[0m \u001b[1;33m=\u001b[0m \u001b[0mensure_index\u001b[0m\u001b[1;33m(\u001b[0m\u001b[0mindex\u001b[0m\u001b[1;33m)\u001b[0m\u001b[1;33m\u001b[0m\u001b[1;33m\u001b[0m\u001b[0m\n",
      "\u001b[1;32m~\\anaconda3\\lib\\site-packages\\pandas\\core\\internals\\construction.py\u001b[0m in \u001b[0;36mextract_index\u001b[1;34m(data)\u001b[0m\n\u001b[0;32m    399\u001b[0m             \u001b[0mlengths\u001b[0m \u001b[1;33m=\u001b[0m \u001b[0mlist\u001b[0m\u001b[1;33m(\u001b[0m\u001b[0mset\u001b[0m\u001b[1;33m(\u001b[0m\u001b[0mraw_lengths\u001b[0m\u001b[1;33m)\u001b[0m\u001b[1;33m)\u001b[0m\u001b[1;33m\u001b[0m\u001b[1;33m\u001b[0m\u001b[0m\n\u001b[0;32m    400\u001b[0m             \u001b[1;32mif\u001b[0m \u001b[0mlen\u001b[0m\u001b[1;33m(\u001b[0m\u001b[0mlengths\u001b[0m\u001b[1;33m)\u001b[0m \u001b[1;33m>\u001b[0m \u001b[1;36m1\u001b[0m\u001b[1;33m:\u001b[0m\u001b[1;33m\u001b[0m\u001b[1;33m\u001b[0m\u001b[0m\n\u001b[1;32m--> 401\u001b[1;33m                 \u001b[1;32mraise\u001b[0m \u001b[0mValueError\u001b[0m\u001b[1;33m(\u001b[0m\u001b[1;34m\"arrays must all be same length\"\u001b[0m\u001b[1;33m)\u001b[0m\u001b[1;33m\u001b[0m\u001b[1;33m\u001b[0m\u001b[0m\n\u001b[0m\u001b[0;32m    402\u001b[0m \u001b[1;33m\u001b[0m\u001b[0m\n\u001b[0;32m    403\u001b[0m             \u001b[1;32mif\u001b[0m \u001b[0mhave_dicts\u001b[0m\u001b[1;33m:\u001b[0m\u001b[1;33m\u001b[0m\u001b[1;33m\u001b[0m\u001b[0m\n",
      "\u001b[1;31mValueError\u001b[0m: arrays must all be same length"
     ]
    }
   ],
   "source": [
    "model_name = []\n",
    "model_dis_price = []\n",
    "model_rating = []\n",
    "model_ram = []\n",
    "model_screen_size = []\n",
    "model_camera = []\n",
    "model_rom = []\n",
    "model_org_price = []\n",
    "model_link = []\n",
    "model_href = []\n",
    "\n",
    "web_base_url = 'https://www.flipkart.com/mobiles/pr?sid=tyy%2C4io&otracker=categorytree&p%5B%5D=facets.price_range.from%3DMin&p%5B%5D=facets.price_range.to%3D25000&p%5B%5D=facets.fulfilled_by%255B%255D%3DPlus%2B%2528FAssured%2529&page='\n",
    "all_url = []\n",
    "for page_num in range(1,41):\n",
    "    \n",
    "    web_pages=page_num\n",
    "    concat_web_url= web_base_url + str(web_pages)\n",
    "    all_url.append(concat_web_url)\n",
    "    \n",
    "for each_url in all_url:\n",
    "    web_url_response=requests.get(each_url)\n",
    "\n",
    "    soup = BeautifulSoup(web_url_response.content, 'html.parser')\n",
    "\n",
    "    # print(soup.text)\n",
    "\n",
    "    results = soup.find_all('div', class_='_13oc-S')\n",
    "    \n",
    "    for result_name in results:\n",
    "        results_model_name = result_name.find('div', class_='_4rR01T')\n",
    "        if results_model_name is None:\n",
    "            model_name.append('NA')\n",
    "        else:\n",
    "            model_name.append(results_model_name.text)\n",
    "    for result_price in results:\n",
    "        results_model_dis_price = result_price.find('div', class_='_30jeq3 _1_WHN1')\n",
    "        if results_model_dis_price is None:\n",
    "            model_dis_price.append('0')\n",
    "        else:\n",
    "            model_dis_price.append(results_model_dis_price.text)\n",
    "    for result_rating in results:\n",
    "        results_model_rating = result_rating.find('div', class_='_3LWZlK')\n",
    "        if results_model_rating is None:\n",
    "            model_rating.append('0.0')\n",
    "        else:\n",
    "            model_rating.append(results_model_rating.text)\n",
    "    # Extracting the model ram.            \n",
    "    for result_ram in results:\n",
    "        results_model_ram = result_ram.find('li', class_='rgWa7D')\n",
    "        if results_model_ram is None:\n",
    "            model_ram.append('NA')\n",
    "        else:\n",
    "            model_ram.append(results_model_ram.text)\n",
    "    \n",
    "    for result_rom in results:\n",
    "        results_model_rom = result_rom.find('li', class_='rgWa7D')\n",
    "        if results_model_rom is None:\n",
    "            model_rom.append('NA')\n",
    "        else:\n",
    "            model_rom.append(results_model_rom.text)\n",
    "            \n",
    "    for result_org in results:\n",
    "        results_model_org = result_org.find('div', class_='_3I9_wc _27UcVY')\n",
    "        if results_model_org is None:\n",
    "            model_org_price.append('0')\n",
    "        else:\n",
    "            model_org_price.append(results_model_org.text)\n",
    "            \n",
    "    for result_href in results:        \n",
    "        results_model_href = result_href.find('a', href=True)\n",
    "        if results_model_org is None:\n",
    "            model_org_price.append('NA')\n",
    "        else:\n",
    "            model_href.append(a['href'])\n",
    "            \n",
    "        \n",
    "            \n",
    "\n",
    "col1 = 'Model name'\n",
    "col2 = 'Discounted Price'\n",
    "col3 = 'Ratings'\n",
    "col4 = 'Ram'\n",
    "col5 = 'Rom'\n",
    "col6 = 'Original Price'\n",
    "col7 = 'href'\n",
    "# model_name = []\n",
    "# model_dis_price = []\n",
    "# model_rating = []\n",
    "# model_ram = []\n",
    "# model_screen_size = []\n",
    "# model_camera = []\n",
    "# model_rom = []\n",
    "# model_org_price = []\n",
    "\n",
    "print(len(model_name),len(model_dis_price),len(model_rating),len(model_ram),len(model_rom),len(model_org_price),len(model_href))\n",
    "\n",
    "data = pd.DataFrame({col1:model_name, col2:model_dis_price, col3:model_rating, col4:model_ram, col5:model_rom, col6:model_org_price, col7:model_href})\n",
    "# data = pd.DataFrame({col1:model_name, col2:model_org_price, col3:model_dis_price, col4:model_rating, col5:model_ram, col6:model_rom})\n",
    "\n",
    "df = pd.DataFrame(data)\n",
    "\n",
    "df['Model name'] = df['Model name'].str.replace('(','')\n",
    "df['Model name'] = df['Model name'].str.replace(')','')\n",
    "df['Model name'] = df['Model name'].str.replace(',','')\n",
    "\n",
    "for each_name in model_name:\n",
    "    each_name.lower()\n",
    "        \n",
    "\n",
    "# df['Model name'] = df['Model name'].str.replace('(','')\n",
    "\n",
    "\n",
    "\n",
    "\n",
    "\n",
    "\n",
    "\n",
    "\n",
    "df['Discounted Price'] = df['Discounted Price'].str.replace(',','')\n",
    "df['Discounted Price'] = df['Discounted Price'].str.replace('₹','')\n",
    "df['Discounted Price'] = df['Discounted Price'].astype(int)\n",
    "\n",
    "\n",
    "df['Original Price'] = df['Original Price'].str.replace(',','')\n",
    "df['Original Price'] = df['Original Price'].str.replace('₹','')\n",
    "df['Original Price'] = df['Original Price'].astype(int)\n",
    "df['Ratings'] = df['Ratings'].astype(float)\n",
    "\n",
    "\n",
    "df['Ram'] = df['Ram'].str.split('|', expand=True)[0]\n",
    "# df['Ram'] = df['Ram'].str.split('GB', expand=True)[0]\n",
    "df['Ram'] = df['Ram'].str[0:1]\n",
    "\n",
    "df['Rom'] = df['Rom'].str.rsplit('ROM', expand=True)[0]\n",
    "# df['Rom'] = df['Rom'].str.lsplit('|', expand=True)[0]\n",
    "df['Rom'] = df['Rom'].str[11:18]\n",
    "df['Rom'] = df['Rom'].str.strip(' GB')\n",
    "df['Rom'] = df['Rom'].str.strip('|')\n",
    "\n",
    "\n",
    "\n",
    "index_names = df[ df['Original Price'] < 5000 ].index\n",
    "data.drop(index_names, inplace = True)\n",
    "\n",
    "df['Ram'] = df['Ram'].str.split(expand=True)[0]\n",
    "data['Ram'] = data['Ram'].astype(int)\n",
    "data['Rom'] = data['Rom'].astype(int)\n",
    "\n",
    "data.to_excel('flipkart_data.xlsx', sheet_name='sheet1', index=False)\n",
    "\n",
    "\n",
    "\n",
    "\n",
    "    \n",
    "\n",
    "\n",
    "    \n",
    "    \n",
    "        \n",
    "\n",
    "\n",
    "\n",
    "\n",
    "\n"
   ]
  },
  {
   "cell_type": "code",
   "execution_count": 5,
   "id": "4cc1672f-0f8f-4949-a9ef-aa6f2aff67c5",
   "metadata": {},
   "outputs": [],
   "source": [
    "base_url = 'https://www.flipkart.com/'\n",
    "\n",
    "TOKEN = os.getenv('TOKEN')\n",
    "CHAT_ID = os.getenv('CHAT_ID')\n",
    "TELEGRAM_API_SEND_MSG = f'https://api.telegram.org/bot{TOKEN}sendMessage'\n",
    "\n",
    "items = []\n",
    "for every_item in model_name:\n",
    "    items.append(every_item)\n",
    "\n",
    "    "
   ]
  },
  {
   "cell_type": "code",
   "execution_count": null,
   "id": "6fb32e22-967b-4356-88d3-cd3a3f0e7007",
   "metadata": {},
   "outputs": [],
   "source": []
  },
  {
   "cell_type": "code",
   "execution_count": 6,
   "id": "2b644495-8181-4c15-a043-9c6bbdf58f29",
   "metadata": {},
   "outputs": [
    {
     "name": "stdout",
     "output_type": "stream",
     "text": [
      "Requirement already satisfied: python-telegram-bot in c:\\users\\fq2071tu\\anaconda3\\lib\\site-packages (13.13)\n",
      "Requirement already satisfied: pytz>=2018.6 in c:\\users\\fq2071tu\\anaconda3\\lib\\site-packages (from python-telegram-bot) (2021.1)\n",
      "Requirement already satisfied: cachetools==4.2.2 in c:\\users\\fq2071tu\\anaconda3\\lib\\site-packages (from python-telegram-bot) (4.2.2)\n",
      "Requirement already satisfied: tornado>=6.1 in c:\\users\\fq2071tu\\anaconda3\\lib\\site-packages (from python-telegram-bot) (6.1)\n",
      "Requirement already satisfied: APScheduler==3.6.3 in c:\\users\\fq2071tu\\anaconda3\\lib\\site-packages (from python-telegram-bot) (3.6.3)\n",
      "Requirement already satisfied: certifi in c:\\users\\fq2071tu\\anaconda3\\lib\\site-packages (from python-telegram-bot) (2020.12.5)\n",
      "Requirement already satisfied: six>=1.4.0 in c:\\users\\fq2071tu\\anaconda3\\lib\\site-packages (from APScheduler==3.6.3->python-telegram-bot) (1.15.0)\n",
      "Requirement already satisfied: tzlocal>=1.2 in c:\\users\\fq2071tu\\anaconda3\\lib\\site-packages (from APScheduler==3.6.3->python-telegram-bot) (4.2)\n",
      "Requirement already satisfied: setuptools>=0.7 in c:\\users\\fq2071tu\\anaconda3\\lib\\site-packages (from APScheduler==3.6.3->python-telegram-bot) (52.0.0.post20210125)\n",
      "Requirement already satisfied: pytz-deprecation-shim in c:\\users\\fq2071tu\\anaconda3\\lib\\site-packages (from tzlocal>=1.2->APScheduler==3.6.3->python-telegram-bot) (0.1.0.post0)\n",
      "Requirement already satisfied: tzdata in c:\\users\\fq2071tu\\anaconda3\\lib\\site-packages (from tzlocal>=1.2->APScheduler==3.6.3->python-telegram-bot) (2022.1)\n",
      "Requirement already satisfied: backports.zoneinfo in c:\\users\\fq2071tu\\anaconda3\\lib\\site-packages (from tzlocal>=1.2->APScheduler==3.6.3->python-telegram-bot) (0.2.1)\n",
      "Note: you may need to restart the kernel to use updated packages.\n"
     ]
    }
   ],
   "source": [
    "pip install python-telegram-bot"
   ]
  },
  {
   "cell_type": "code",
   "execution_count": 7,
   "id": "046abf95-0914-4755-9a75-7a3d6f70c74c",
   "metadata": {},
   "outputs": [
    {
     "name": "stdout",
     "output_type": "stream",
     "text": [
      "{'supergroup_chat_created': False, 'chat': {'id': 958469832, 'first_name': 'Nirali', 'type': 'private', 'username': 'Nirali22'}, 'channel_chat_created': False, 'delete_chat_photo': False, 'new_chat_photo': [], 'new_chat_members': [], 'message_id': 12, 'photo': [], 'entities': [], 'group_chat_created': False, 'text': 'HEY THERE!', 'caption_entities': [], 'date': 1658489693, 'from': {'is_bot': True, 'id': 5569879837, 'first_name': 'Price drop alert', 'username': 'budtracker_bot'}}\n"
     ]
    }
   ],
   "source": [
    "import telegram\n",
    "tok = os.getenv('TOKEN')\n",
    "chat = os.getenv('CHAT')\n",
    "\n",
    "\n",
    "api_key = '5569879837:AAFk-IiBsNpZ31F1Cfr9hh5jGnCA0msuAZY'\n",
    "user_id = '958469832'\n",
    "\n",
    "bot = telegram.Bot(token=api_key)\n",
    "\n",
    "result = bot.send_message(chat_id=user_id, text='HEY THERE!')\n",
    "\n",
    "print(result)"
   ]
  },
  {
   "cell_type": "code",
   "execution_count": null,
   "id": "4b0df2d0-a66c-4a15-92f3-2d192c1e0712",
   "metadata": {},
   "outputs": [],
   "source": []
  }
 ],
 "metadata": {
  "kernelspec": {
   "display_name": "Python 3",
   "language": "python",
   "name": "python3"
  },
  "language_info": {
   "codemirror_mode": {
    "name": "ipython",
    "version": 3
   },
   "file_extension": ".py",
   "mimetype": "text/x-python",
   "name": "python",
   "nbconvert_exporter": "python",
   "pygments_lexer": "ipython3",
   "version": "3.8.8"
  }
 },
 "nbformat": 4,
 "nbformat_minor": 5
}
